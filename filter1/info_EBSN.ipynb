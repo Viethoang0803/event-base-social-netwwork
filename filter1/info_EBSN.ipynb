{
  "cells": [
    {
      "cell_type": "code",
      "execution_count": 1,
      "metadata": {
        "id": "8U-SGrUBW6hr"
      },
      "outputs": [],
      "source": [
        "import pandas as pd\n",
        "import numpy as np"
      ]
    },
    {
      "cell_type": "code",
      "execution_count": 2,
      "metadata": {
        "id": "4j5jh4qRLPMt"
      },
      "outputs": [],
      "source": [
        "data_list = []\n",
        "\n",
        "with open(r\"D:\\7.reseach\\newyork_event_information2012_2020.txt\", 'r', encoding = \"iso-8859-1\") as file:\n",
        "  for line in file:\n",
        "    try:\n",
        "      processed_line = line.strip()\n",
        "      data_list.append(processed_line)\n",
        "    except:\n",
        "      pass"
      ]
    },
    {
      "cell_type": "code",
      "execution_count": 3,
      "metadata": {
        "colab": {
          "base_uri": "https://localhost:8080/"
        },
        "id": "4teZCU_dKIFQ",
        "outputId": "f236f3b4-8d7f-4051-9c5b-ca90668ccaab"
      },
      "outputs": [
        {
          "name": "stdout",
          "output_type": "stream",
          "text": [
            "1149024\n"
          ]
        }
      ],
      "source": [
        "print(len(data_list))"
      ]
    },
    {
      "cell_type": "code",
      "execution_count": 4,
      "metadata": {
        "id": "y5QqFrWpEpPb"
      },
      "outputs": [
        {
          "name": "stdout",
          "output_type": "stream",
          "text": [
            "['id', 'group_id', 'group_URLName', 'event_id', 'event_name', 'yes_rvsp_count', 'created', 'time', 'updated', 'rating_c_a', 'fee', 'how_to_find_us', 'event_url']\n",
            "['1', '21591', 'wordpressandblogging', 'prbdnywnbqb', 'Jersey and Women Bloggers Monthly Meetup', '1', '1268852095000', '1507851000000', '1507864422000', '0_0', '0', 'how to find us', 'https://www.meetup.com/wordpressandblogging/events/243994901/']\n",
            "['2', '21591', 'wordpressandblogging', 'prbdnywpbmb', 'Jersey and Women Bloggers Monthly Meetup', '1', '1268852095000', '1510273800000', '1510289124000', '0_0', '0', 'how to find us', 'https://www.meetup.com/wordpressandblogging/events/244803630/']\n",
            "['3', '21591', 'wordpressandblogging', 'prbdnywqbsb', 'Jersey and Women Bloggers Monthly Meetup', '1', '1268852095000', '1513297800000', '1513313337000', '0_0', '0', 'how to find us', 'https://www.meetup.com/wordpressandblogging/events/245770391/']\n",
            "['4', '21591', 'wordpressandblogging', 'prbdnyxcbpb', 'Jersey and Women Bloggers Monthly Meetup', '1', '1268852095000', '1515717000000', '1515738098000', '0_0', '0', 'how to find us', 'https://www.meetup.com/wordpressandblogging/events/246445205/']\n",
            "['5', '21591', 'wordpressandblogging', 'prbdnyxdblb', 'Jersey and Women Bloggers Monthly Meetup', '2', '1268852095000', '1518136200000', '1518152905000', '0_0', '0', 'how to find us', 'https://www.meetup.com/wordpressandblogging/events/247438344/']\n",
            "['6', '21591', 'wordpressandblogging', 'prbdnyxfblb', 'Jersey and Women Bloggers Monthly Meetup', '1', '1268852095000', '1520555400000', '1520576969000', '0_0', '0', 'how to find us', 'https://www.meetup.com/wordpressandblogging/events/248359176/']\n",
            "['7', '21591', 'wordpressandblogging', 'prbdnyxgbqb', 'Jersey and Women Bloggers Monthly Meetup', '1', '1268852095000', '1523575800000', '1523598241000', '0_0', '0', 'how to find us', 'https://www.meetup.com/wordpressandblogging/events/249521965/']\n",
            "['8', '21591', 'wordpressandblogging', 'prbdnyxhbnb', 'Jersey and Women Bloggers Monthly Meetup', '1', '1268852095000', '1525995000000', '1526014491000', '0_0', '0', 'how to find us', 'https://www.meetup.com/wordpressandblogging/events/250469476/']\n",
            "['9', '21591', 'wordpressandblogging', 'prbdnyxjbsb', 'Jersey and Women Bloggers Monthly Meetup', '2', '1268852095000', '1529019000000', '1529035666000', '0_0', '0', 'how to find us', 'https://www.meetup.com/wordpressandblogging/events/251572615/']\n"
          ]
        }
      ],
      "source": [
        "#tách data theo dấu tab\n",
        "data=[]\n",
        "for i in data_list:\n",
        "  c=i.split('\\t')\n",
        "  data.append(c)\n",
        "  \n",
        "#in ra 10 dòng đầu của data\n",
        "for i in range(10):\n",
        "  print(data[i])"
      ]
    },
    {
      "cell_type": "code",
      "execution_count": 5,
      "metadata": {
        "colab": {
          "base_uri": "https://localhost:8080/",
          "height": 36
        },
        "id": "1gsKanZbFQa8",
        "outputId": "20244c73-4814-47c8-d6f5-70085158099e"
      },
      "outputs": [
        {
          "data": {
            "text/plain": [
              "'time'"
            ]
          },
          "execution_count": 5,
          "metadata": {},
          "output_type": "execute_result"
        }
      ],
      "source": [
        "#kiểm tra xem cột 7 có phải cột thời gian không\n",
        "col = data[0]\n",
        "col[7]"
      ]
    },
    {
      "cell_type": "code",
      "execution_count": 7,
      "metadata": {
        "id": "vazMb_Hi8MEn"
      },
      "outputs": [],
      "source": [
        "data1 = data[1:].copy()"
      ]
    },
    {
      "cell_type": "code",
      "execution_count": 8,
      "metadata": {
        "id": "Ps3n1g0xF5Mx"
      },
      "outputs": [],
      "source": [
        "list_epoch = []\n",
        "for i in range(len(data1)):\n",
        "  list_epoch.append(int(data1[i][7]))"
      ]
    },
    {
      "cell_type": "code",
      "execution_count": 9,
      "metadata": {
        "colab": {
          "base_uri": "https://localhost:8080/"
        },
        "id": "qfMybTJoF6Mq",
        "outputId": "18a5dad5-5f08-49a5-ce4b-3dd881de16cf"
      },
      "outputs": [
        {
          "name": "stdout",
          "output_type": "stream",
          "text": [
            "31069\n"
          ]
        }
      ],
      "source": [
        "list_index = []\n",
        "for i in range(len(list_epoch)):\n",
        "  list_epoch[i]=list_epoch[i]/1000\n",
        "  if list_epoch[i]>1583020800 and list_epoch[i]< 1588291200 :\n",
        "      list_index.append(i)\n",
        "print(len(list_index))"
      ]
    },
    {
      "cell_type": "code",
      "execution_count": 10,
      "metadata": {
        "id": "1f4m9dghF_B6"
      },
      "outputs": [],
      "source": [
        "new_list = []\n",
        "for i in list_index:\n",
        "  new_list.append(data1[i])"
      ]
    },
    {
      "cell_type": "code",
      "execution_count": 11,
      "metadata": {
        "colab": {
          "base_uri": "https://localhost:8080/"
        },
        "id": "kXPIk-gXNJ75",
        "outputId": "bf658ec7-64de-4b03-a6ee-d6442a5be76d"
      },
      "outputs": [
        {
          "name": "stdout",
          "output_type": "stream",
          "text": [
            "2017-07-27 16:00:00-04:00\n",
            "Giờ New York: 2017/07/27/16\n",
            "Thursday\n"
          ]
        }
      ],
      "source": [
        "import pytz\n",
        "from datetime import datetime\n",
        "\n",
        "def convert_unix_time_to_new_york(unix_time):\n",
        "    # Lấy múi giờ của New York\n",
        "    new_york_timezone = pytz.timezone('America/New_York')\n",
        "\n",
        "    # Chuyển giờ máy tính sang đối tượng datetime\n",
        "    computer_time = datetime.fromtimestamp(unix_time)\n",
        "\n",
        "    # Đặt múi giờ của thời gian hiện tại là múi giờ của New York\n",
        "    new_york_time = computer_time.astimezone(new_york_timezone)\n",
        "\n",
        "    return new_york_time\n",
        "\n",
        "unix_time = 1501185600\n",
        "ny_time = convert_unix_time_to_new_york(unix_time)\n",
        "print(ny_time)\n",
        "print(\"Giờ New York:\", ny_time.strftime(\"%Y/%m/%d/%H\"))\n",
        "print(ny_time.strftime('%A'))"
      ]
    },
    {
      "cell_type": "code",
      "execution_count": 12,
      "metadata": {
        "id": "KgZpYrUsYDK9"
      },
      "outputs": [],
      "source": [
        "for i in range(len(new_list)):\n",
        "  a = int(new_list[i][7])/1000\n",
        "  b = convert_unix_time_to_new_york(a)\n",
        "  c0 = b.strftime(\"%Y\")\n",
        "  c1 = b.strftime(\"%m\")\n",
        "  c2 = b.strftime(\"%d\")\n",
        "  c3 = b.strftime(\"%H\")\n",
        "  c4 = b.strftime(\"%A\")\n",
        "  new_list[i].insert(7,c0)\n",
        "  new_list[i].insert(8,c1)\n",
        "  new_list[i].insert(9,c2)\n",
        "  new_list[i].insert(10,c3)\n",
        "  new_list[i].insert(11,c4)"
      ]
    },
    {
      "cell_type": "code",
      "execution_count": 13,
      "metadata": {
        "colab": {
          "base_uri": "https://localhost:8080/"
        },
        "id": "wm2aUKkCiyzU",
        "outputId": "3ca37815-aca6-4084-d50a-77ae547e9247"
      },
      "outputs": [
        {
          "data": {
            "text/plain": [
              "['3',\n",
              " '21591',\n",
              " 'wordpressandblogging',\n",
              " 'prbdnybcfbqb',\n",
              " 'Jersey and Women Bloggers Monthly Meetup',\n",
              " '1',\n",
              " '1268852095000',\n",
              " '2020',\n",
              " '03',\n",
              " '12',\n",
              " '19',\n",
              " 'Thursday',\n",
              " '1584055800000',\n",
              " '1584068813000',\n",
              " '0_0',\n",
              " '0',\n",
              " 'how to find us',\n",
              " 'https://www.meetup.com/wordpressandblogging/events/269247477/']"
            ]
          },
          "execution_count": 13,
          "metadata": {},
          "output_type": "execute_result"
        }
      ],
      "source": [
        "new_list[0]"
      ]
    },
    {
      "cell_type": "code",
      "execution_count": 14,
      "metadata": {
        "colab": {
          "base_uri": "https://localhost:8080/"
        },
        "id": "s5aI-K4Niy1q",
        "outputId": "98b5f32a-bc6e-40a6-844b-de26f1667c11"
      },
      "outputs": [
        {
          "data": {
            "text/plain": [
              "['id',\n",
              " 'group_id',\n",
              " 'group_URLName',\n",
              " 'event_id',\n",
              " 'event_name',\n",
              " 'yes_rvsp_count',\n",
              " 'created',\n",
              " 'time',\n",
              " 'updated',\n",
              " 'rating_c_a',\n",
              " 'fee',\n",
              " 'how_to_find_us',\n",
              " 'event_url']"
            ]
          },
          "execution_count": 14,
          "metadata": {},
          "output_type": "execute_result"
        }
      ],
      "source": [
        "col"
      ]
    },
    {
      "cell_type": "code",
      "execution_count": 17,
      "metadata": {
        "id": "ip_h-g78iy5J"
      },
      "outputs": [],
      "source": [
        "\n",
        "col.insert(7,\"year\")\n",
        "col.insert(8,\"month\")\n",
        "col.insert(9,\"day\")\n",
        "col.insert(10,\"hour\")\n",
        "col.insert(11,\"in week\")"
      ]
    },
    {
      "cell_type": "code",
      "execution_count": 18,
      "metadata": {
        "id": "x9FjaIeznOi1"
      },
      "outputs": [],
      "source": [
        "new_list.insert(0,col)"
      ]
    },
    {
      "cell_type": "code",
      "execution_count": 19,
      "metadata": {
        "colab": {
          "base_uri": "https://localhost:8080/"
        },
        "id": "9f2HNI9Mnlxf",
        "outputId": "10f79b79-a50a-4349-ba7f-7b0330262a66"
      },
      "outputs": [
        {
          "name": "stdout",
          "output_type": "stream",
          "text": [
            "['2881', '82387', 'propeace', 'tdstlnybcfbjb', 'Meet, Greet & Solidarity Action w/ Local Mosque', '2', '1499973632000', '2020', '03', '06', '12', 'Friday', '1583516700000', '1583530563000', '0_0', '0', 'how to find us', 'https://www.meetup.com/propeace/events/269091186/']\n",
            "['2882', '82387', 'propeace', 'tdstlnybcfbrb', 'Meet, Greet & Solidarity Action w/ Local Mosque', '1', '1499973632000', '2020', '03', '13', '12', 'Friday', '1584117900000', '1584130692000', '0_0', '0', 'how to find us', 'https://www.meetup.com/propeace/events/269260938/']\n",
            "['2883', '82387', 'propeace', 'tdstlnybcfbbc', 'Meet, Greet & Solidarity Action w/ Local Mosque', '1', '1499973632000', '2020', '03', '20', '12', 'Friday', '1584722700000', '1584735221000', '0_0', '0', 'how to find us', 'https://www.meetup.com/propeace/events/269422332/']\n",
            "['2884', '82387', 'propeace', 'tdstlnybcfbkc', 'Meet, Greet & Solidarity Action w/ Local Mosque', '1', '1499973632000', '2020', '03', '27', '12', 'Friday', '1585327500000', '1585339959000', '0_0', '0', 'how to find us', 'https://www.meetup.com/propeace/events/269569556/']\n",
            "['2885', '82387', 'propeace', 'tdstlnybcgbfb', 'Meet, Greet & Solidarity Action w/ Local Mosque', '1', '1499973632000', '2020', '04', '03', '12', 'Friday', '1585932300000', '1585946533000', '0_0', '0', 'how to find us', 'https://www.meetup.com/propeace/events/269713510/']\n",
            "['2886', '82387', 'propeace', 'tdstlnybcgbnb', 'Meet, Greet & Solidarity Action w/ Local Mosque', '1', '1499973632000', '2020', '04', '10', '12', 'Friday', '1586537100000', '1586555068000', '0_0', '0', 'how to find us', 'https://www.meetup.com/propeace/events/269858404/']\n",
            "['2887', '82387', 'propeace', 'tdstlnybcgbwb', 'Meet, Greet & Solidarity Action w/ Local Mosque', '1', '1499973632000', '2020', '04', '17', '12', 'Friday', '1587141900000', '1587155413000', '0_0', '0', 'how to find us', 'https://www.meetup.com/propeace/events/269995297/']\n",
            "['2888', '82387', 'propeace', 'tdstlnybcgbgc', 'Meet, Greet & Solidarity Action w/ Local Mosque', '1', '1499973632000', '2020', '04', '24', '12', 'Friday', '1587746700000', '1587759360000', '0_0', '0', 'how to find us', 'https://www.meetup.com/propeace/events/270126924/']\n",
            "['3079', '125245', 'NewYorkersinNYC', '268800446', 'Mardi Gras Party (Drink Specials, Free Beads & More!)', '26', '1582040252000', '2020', '02', '29', '20', 'Saturday', '1583024400000', '1583040689000', '0_0', '15', 'how to find us', 'https://www.meetup.com/NewYorkersinNYC/events/268800446/']\n",
            "['3080', '125245', 'NewYorkersinNYC', '268792740', 'Mardi Gras Single Professionals Party *PRE-PAY*', '1', '1581999486000', '2020', '02', '29', '20', 'Saturday', '1583024400000', '1583040659000', '0_0', '0', 'how to find us', 'https://www.meetup.com/NewYorkersinNYC/events/268792740/']\n",
            "['3081', '125245', 'NewYorkersinNYC', '268827191', 'Nuts & Bolts Singles Penthouse Party (w/ Free Drink)', '26', '1582124685000', '2020', '02', '29', '20', 'Saturday', '1583024400000', '1583040776000', '0_0', '20', 'how to find us', 'https://www.meetup.com/NewYorkersinNYC/events/268827191/']\n",
            "['3082', '125245', 'NewYorkersinNYC', '268337586', ' Fun & Easy Rotating Team Trivia Night: Free Event    ', '1', '1580436077000', '2020', '03', '03', '19', 'Tuesday', '1583280000000', '1583292714000', '0_0', '0', 'how to find us', 'https://www.meetup.com/NewYorkersinNYC/events/268337586/']\n",
            "['3083', '125245', 'NewYorkersinNYC', '269006767', 'The Office Trivia Night... Win A Dundie!', '26', '1582732135000', '2020', '03', '04', '18', 'Wednesday', '1583364600000', '1583376178000', '0_0', '0', 'how to find us', 'https://www.meetup.com/NewYorkersinNYC/events/269006767/']\n",
            "['3084', '125245', 'NewYorkersinNYC', '268339584', ' Speed Socializing After Work Party- 20s & 30s *PRE-PAY*', '2', '1580438506000', '2020', '03', '04', '18', 'Wednesday', '1583364600000', '1583379235000', '0_0', '0', 'how to find us', 'https://www.meetup.com/NewYorkersinNYC/events/268339584/']\n",
            "['3085', '125245', 'NewYorkersinNYC', '269174390', '20s ONLY Speed dating! Guys SOLD OUT! Space for 2 Ladies! Only $20', '1', '1583295081000', '2020', '03', '04', '19', 'Wednesday', '1583366400000', '1583376624000', '0_0', '0', 'how to find us', 'https://www.meetup.com/NewYorkersinNYC/events/269174390/']\n",
            "['3086', '125245', 'NewYorkersinNYC', '269062075', 'Singles Mingle Happy Hour (Comp Apps, Drink Specials, Ice Breakers)', '26', '1582903013000', '2020', '03', '05', '18', 'Thursday', '1583451000000', '1583465371000', '0_0', '15', 'Private for members and their guests - optional name tags will be provided', 'https://www.meetup.com/NewYorkersinNYC/events/269062075/']\n",
            "['3087', '125245', 'NewYorkersinNYC', '268793525', 'The Grandest Single Professionals Party 20s-40s *PRE-PAY*', '1', '1582003370000', '2020', '03', '05', '18', 'Thursday', '1583451000000', '1583465315000', '0_0', '0', 'how to find us', 'https://www.meetup.com/NewYorkersinNYC/events/268793525/']\n",
            "['3088', '125245', 'NewYorkersinNYC', '268978878', 'VIP Singles Happy Hour (First Drink Free!)', '26', '1582644524000', '2020', '03', '06', '18', 'Friday', '1583535600000', '1583553077000', '0_0', '20', 'how to find us', 'https://www.meetup.com/NewYorkersinNYC/events/268978878/']\n",
            "['3089', '125245', 'NewYorkersinNYC', '268571222', ' 30s ONLY Speed dating & Singles Mixer (Ages 30-39)', '1', '1581214721000', '2020', '03', '07', '18', 'Saturday', '1583622000000', '1583638803000', '0_0', '37', '2nd Floor', 'https://www.meetup.com/NewYorkersinNYC/events/268571222/']\n",
            "['3090', '125245', 'NewYorkersinNYC', '268342222', 'New & Existing Members Welcome Party: Drink Specials & Ice Breakers *PRE-PAY*', '1', '1580440936000', '2020', '03', '07', '19', 'Saturday', '1583627400000', '1583636740000', '0_0', '0', 'how to find us', 'https://www.meetup.com/NewYorkersinNYC/events/268342222/']\n",
            "31071\n"
          ]
        }
      ],
      "source": [
        "for i in range(20):\n",
        "  print(new_list[i+500])\n",
        "print(len(new_list))"
      ]
    },
    {
      "cell_type": "code",
      "execution_count": 20,
      "metadata": {
        "id": "klIn0D4lnqq9"
      },
      "outputs": [],
      "source": [
        "import csv\n",
        "\n",
        "# Ghi list chứa các list vào file CSV\n",
        "with open(r\"D:\\code_bigdata\\filter1\\info_file.csv\", 'w', newline='',encoding = \"iso-8859-1\") as file:\n",
        "    try:\n",
        "        writer = csv.writer(file)\n",
        "        writer.writerows(new_list)\n",
        "    except:\n",
        "        pass"
      ]
    },
    {
      "cell_type": "code",
      "execution_count": null,
      "metadata": {
        "id": "vWuP1SPJ56T3"
      },
      "outputs": [],
      "source": []
    },
    {
      "cell_type": "code",
      "execution_count": null,
      "metadata": {
        "id": "hAiqVkJZ56Dv"
      },
      "outputs": [],
      "source": []
    },
    {
      "cell_type": "code",
      "execution_count": null,
      "metadata": {
        "id": "DtpI2umRnzuD"
      },
      "outputs": [],
      "source": []
    }
  ],
  "metadata": {
    "colab": {
      "provenance": []
    },
    "kernelspec": {
      "display_name": "Python 3",
      "name": "python3"
    },
    "language_info": {
      "codemirror_mode": {
        "name": "ipython",
        "version": 3
      },
      "file_extension": ".py",
      "mimetype": "text/x-python",
      "name": "python",
      "nbconvert_exporter": "python",
      "pygments_lexer": "ipython3",
      "version": "3.10.1"
    }
  },
  "nbformat": 4,
  "nbformat_minor": 0
}
